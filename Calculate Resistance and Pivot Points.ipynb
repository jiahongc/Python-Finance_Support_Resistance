{
 "cells": [
  {
   "cell_type": "code",
   "execution_count": null,
   "metadata": {},
   "outputs": [],
   "source": [
    "import pandas_datareader.data as web\n",
    "import datetime as dt\n",
    "import pandas as pd\n",
    "import matplotlib.pyplot as plt"
   ]
  },
  {
   "cell_type": "code",
   "execution_count": null,
   "metadata": {},
   "outputs": [],
   "source": [
    "start = dt.datetime(2020,1,1)\n",
    "end = dt.datetime.now()"
   ]
  },
  {
   "cell_type": "code",
   "execution_count": null,
   "metadata": {},
   "outputs": [],
   "source": [
    "stock = input(\"Enter the stock symbol: \").upper()\n",
    "\n",
    "while stock!='quit':\n",
    "    df= web.DataReader(stock,\"yahoo\",start,end)\n",
    "    df[\"High\"].plot(Label =\"High\")\n",
    "    pivots = []\n",
    "    dates = []\n",
    "    counter=0\n",
    "    lastPivot=0\n",
    "    \n",
    "    Range=[0,0,0,0,0,0,0,0,0,0]\n",
    "    dateRange=[0,0,0,0,0,0,0,0,0,0]\n",
    "    \n",
    "    for i in df.index:\n",
    "        currentMax = max(Range,default=0)\n",
    "        value = round(df['High'][i],2)\n",
    "        \n",
    "        Range = Range[1:9]\n",
    "        Range.append(value)\n",
    "        dateRange=dateRange[1:9]\n",
    "        dateRange.append(i)\n",
    "        \n",
    "        if currentMax==max(Range,default=0):\n",
    "            counter+=1\n",
    "        else:\n",
    "            counter=0\n",
    "            \n",
    "        if counter ==5:\n",
    "            lastPivot=currentMax\n",
    "            dateloc=Range.index(lastPivot)\n",
    "            lastDate=dateRange[dateloc]\n",
    "            pivots.append(lastPivot)\n",
    "            dates.append(lastDate)\n",
    "\n",
    "    timeD=dt.timedelta(days=15)\n",
    "    \n",
    "    for index in range(len(pivots)):\n",
    "        print(str(pivots[index])+ \": \" +str(dates[index]))\n",
    "        plt.plot_date(\n",
    "            [dates[index]-timeD,dates[index]+timeD],\n",
    "            [pivots[index],pivots[index]],\n",
    "            linestyle=\"-\",linewidth=2,marker=\",\")\n",
    "    \n",
    "    plt.show()\n",
    "    \n",
    "    stock = input(\"Enter the stock symbol: \")"
   ]
  }
 ],
 "metadata": {
  "kernelspec": {
   "name": "python3",
   "display_name": "Python 3.8.2 64-bit",
   "metadata": {
    "interpreter": {
     "hash": "082e9a3bcad0a290d0001e938aa60b99250c6c2ef33a923c00b70f9826caf4b7"
    }
   }
  },
  "language_info": {
   "codemirror_mode": {
    "name": "ipython",
    "version": 3
   },
   "file_extension": ".py",
   "mimetype": "text/x-python",
   "name": "python",
   "nbconvert_exporter": "python",
   "pygments_lexer": "ipython3",
   "version": "3.8.2-final"
  }
 },
 "nbformat": 4,
 "nbformat_minor": 4
}