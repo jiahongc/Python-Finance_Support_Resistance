{
 "cells": [
  {
   "cell_type": "markdown",
   "metadata": {},
   "source": [
    "###  Graph stock prices using using candle sticks"
   ]
  },
  {
   "cell_type": "code",
   "execution_count": null,
   "metadata": {},
   "outputs": [],
   "source": [
    "import datetime as dt\n",
    "import matplotlib.pyplot as plt\n",
    "from matplotlib import style\n",
    "import pandas as pd\n",
    "import pandas_datareader.data as web\n",
    "from datetime import date\n",
    "\n",
    "import altair as alt\n",
    "from vega_datasets import data\n",
    "\n",
    "from mpl_finance import candlestick_ohlc\n",
    "import matplotlib.dates as mdates\n",
    "import random\n",
    "from datetime import timedelta"
   ]
  },
  {
   "cell_type": "code",
   "execution_count": null,
   "metadata": {},
   "outputs": [],
   "source": [
    "from IPython.core.display import display, HTML\n",
    "display(HTML(\"<style>.container { width:80% !important; }</style>\"))"
   ]
  },
  {
   "cell_type": "code",
   "execution_count": null,
   "metadata": {},
   "outputs": [],
   "source": [
    "def stock_df(ticker,source,start,end):\n",
    "    \n",
    "    df = web.DataReader(ticker,source,start,end)\n",
    "    df['%change'] = (df['Close']-df['Open'])/df['Open']*100\n",
    "    \n",
    "    return df\n",
    "\n",
    "def altair_candle(start,end,ticker,moving_av):\n",
    "    \n",
    "    if len(moving_av)!=0:\n",
    "        start = start -timedelta(days=max(moving_av))\n",
    "    df=stock_df(ticker,'yahoo',start,end)\n",
    "    df.reset_index(inplace=True)\n",
    "    \n",
    "    interval = alt.selection_interval(encodings=['x'])\n",
    "    open_close_color = alt.condition(\"datum.Open <= datum.Close\",\n",
    "                                 alt.value(\"#06982d\"),\n",
    "                                 alt.value(\"#980617\"))\n",
    "    \n",
    "    base = alt.Chart(df).encode(\n",
    "        alt.X('Date:T',\n",
    "              axis=alt.Axis(\n",
    "                  format='%m/%d/%y',labelAngle=-45),\n",
    "                  title=ticker +' stocks from '+str(start)[0:10]+' to '+str(end)[0:10]),\n",
    "        color=open_close_color, \n",
    "        tooltip = [alt.Tooltip('Date:T'), alt.Tooltip('High:Q',format='.2f'),alt.Tooltip('Low:Q',format='.2f'),\n",
    "                   alt.Tooltip('Open:Q',format='.2f'),alt.Tooltip('Close:Q',format='.2f'),\n",
    "                  alt.Tooltip('%change:Q',format='.2f')] \n",
    "        ).properties(\n",
    "        width=800,\n",
    "        height=350,\n",
    "        title=ticker)\n",
    "\n",
    "    rule = base.mark_rule().encode(\n",
    "        alt.Y(\n",
    "            'Low:Q',\n",
    "            title='Price',\n",
    "            scale=alt.Scale(zero=False),),\n",
    "        alt.Y2('High:Q'))\n",
    "\n",
    "    bar = base.mark_bar().encode(\n",
    "        alt.Y('Open:Q'),\n",
    "        alt.Y2('Close:Q')\n",
    "    ).properties(\n",
    "        selection=interval\n",
    "    ).interactive()\n",
    "    \n",
    "    top = rule + bar\n",
    "    \n",
    "    ## adding any moving avergae\n",
    "    if len(moving_av)!=0:\n",
    "        for day_ma in moving_av:\n",
    "            df[str(day_ma)+'ma'] = df['Close'].rolling(window=day_ma).mean()\n",
    "            df.dropna(inplace=True)\n",
    "            r = lambda: random.randint(0,255)\n",
    "            para = str(day_ma)+ 'ma:Q'\n",
    "            ma = base.mark_line(\n",
    "            ).encode(\n",
    "                alt.Y(para),\n",
    "                color=alt.value('#%02X%02X%02X' % (r(),r(),r())) \n",
    "            ) \n",
    "            top = top + ma   \n",
    "    \n",
    "    ##add trade volume bar chart\n",
    "    volume = add_trade_volume(df,interval,ticker,open_close_color)\n",
    "    \n",
    "    ## add percentage summary chart\n",
    "    percentage = add_percentage_change(df,interval,ticker,open_close_color)\n",
    "    \n",
    "    return top&percentage&volume\n",
    "\n",
    "def add_trade_volume(df,interval,ticker,open_close_color):\n",
    "    bottom = alt.Chart(df).mark_bar().encode(\n",
    "            alt.X('Date:T',title = ticker+' Trading Volume'),\n",
    "            alt.Y('Volume:Q'),\n",
    "            color=open_close_color,\n",
    "            tooltip = [alt.Tooltip('Date:T'), alt.Tooltip('Volume:Q',format='.0f')]\n",
    "        ).properties(\n",
    "            width=800,\n",
    "            height=100).transform_filter(interval).interactive()\n",
    "    return bottom    \n",
    "\n",
    "def add_percentage_change(df,interval,ticker,open_close_color):\n",
    "    percentage = alt.Chart(df).mark_bar().encode(\n",
    "            alt.X('Date:T',title = ticker+' Trading Volume'),\n",
    "            alt.Y('%change:Q'),\n",
    "            color=open_close_color,\n",
    "            tooltip = [alt.Tooltip('Date:T'), alt.Tooltip('%change:Q',format='.2f')]\n",
    "        ).properties(\n",
    "            width=800,\n",
    "            height=200).transform_filter(interval).interactive()\n",
    "    return percentage"
   ]
  },
  {
   "cell_type": "code",
   "execution_count": null,
   "metadata": {
    "scrolled": true
   },
   "outputs": [],
   "source": [
    "start = dt.datetime(2020,1,1)\n",
    "end = date.today()\n",
    "altair_candle(start,end,'NIO',[20,50])"
   ]
  },
  {
   "cell_type": "code",
   "execution_count": null,
   "metadata": {},
   "outputs": [],
   "source": [
    "## return a S&P500 list\n",
    "\n",
    "import bs4 as bs\n",
    "import pickle\n",
    "import requests\n",
    "\n",
    "def save_sp500_tickers():\n",
    "    resp = requests.get('https://en.wikipedia.org/wiki/List_of_S%26P_500_companies')\n",
    "    soup = bs.BeautifulSoup(resp.text,'lxml')\n",
    "    table = soup.find('table', {'id': 'constituents'})\n",
    "    tickers=[]\n",
    "    \n",
    "    for row in table.findAll('tr')[1:]:\n",
    "        ticker = row.find('td').text\n",
    "        tickers.append(ticker)\n",
    "        \n",
    "    with open(\"sp500tickers.pickle\",\"wb\") as f:\n",
    "        pickle.dump(tickers,f)\n",
    "    \n",
    "    ticks500 = []\n",
    "    for ticks in tickers:\n",
    "        ticks500.append(ticks[slice(0,-1)])\n",
    "        \n",
    "    return ticks500\n",
    "\n",
    "tickers = save_sp500_tickers()"
   ]
  },
  {
   "cell_type": "code",
   "execution_count": null,
   "metadata": {},
   "outputs": [],
   "source": []
  }
 ],
 "metadata": {
  "kernelspec": {
   "name": "python3",
   "display_name": "Python 3.8.2 64-bit",
   "metadata": {
    "interpreter": {
     "hash": "082e9a3bcad0a290d0001e938aa60b99250c6c2ef33a923c00b70f9826caf4b7"
    }
   }
  },
  "language_info": {
   "codemirror_mode": {
    "name": "ipython",
    "version": 3
   },
   "file_extension": ".py",
   "mimetype": "text/x-python",
   "name": "python",
   "nbconvert_exporter": "python",
   "pygments_lexer": "ipython3",
   "version": "3.8.2-final"
  }
 },
 "nbformat": 4,
 "nbformat_minor": 4
}