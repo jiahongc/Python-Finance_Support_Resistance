{
 "cells": [
  {
   "cell_type": "markdown",
   "metadata": {},
   "source": [
    "###  Graph stock prices using using candle sticks"
   ]
  },
  {
   "cell_type": "code",
   "execution_count": 1,
   "metadata": {},
   "outputs": [
    {
     "name": "stderr",
     "output_type": "stream",
     "text": [
      "/Library/Frameworks/Python.framework/Versions/3.8/lib/python3.8/site-packages/mpl_finance.py:16: DeprecationWarning: \n",
      "\n",
      "  =================================================================\n",
      "\n",
      "   WARNING: `mpl_finance` is deprecated:\n",
      "\n",
      "    Please use `mplfinance` instead (no hyphen, no underscore).\n",
      "\n",
      "    To install: `pip install --upgrade mplfinance` \n",
      "\n",
      "   For more information, see: https://pypi.org/project/mplfinance/\n",
      "\n",
      "  =================================================================\n",
      "\n",
      "  __warnings.warn('\\n\\n  ================================================================='+\n"
     ]
    }
   ],
   "source": [
    "import datetime as dt\n",
    "import matplotlib.pyplot as plt\n",
    "from matplotlib import style\n",
    "import pandas as pd\n",
    "import pandas_datareader.data as web\n",
    "from datetime import date\n",
    "\n",
    "import altair as alt\n",
    "from vega_datasets import data\n",
    "\n",
    "from mpl_finance import candlestick_ohlc\n",
    "import matplotlib.dates as mdates\n",
    "import random\n",
    "from datetime import timedelta"
   ]
  },
  {
   "cell_type": "code",
   "execution_count": 2,
   "metadata": {},
   "outputs": [
    {
     "data": {
      "text/html": [
       "<style>.container { width:80% !important; }</style>"
      ],
      "text/plain": [
       "<IPython.core.display.HTML object>"
      ]
     },
     "metadata": {},
     "output_type": "display_data"
    }
   ],
   "source": [
    "from IPython.core.display import display, HTML\n",
    "display(HTML(\"<style>.container { width:80% !important; }</style>\"))"
   ]
  },
  {
   "cell_type": "code",
   "execution_count": 5,
   "metadata": {},
   "outputs": [],
   "source": [
    "def stock_df(ticker,source,start,end):\n",
    "    return web.DataReader(ticker,source,start,end)\n",
    "\n",
    "def altair_candle(start,end,ticker,moving_av):\n",
    "    \n",
    "    if len(moving_av)!=0:\n",
    "        start = start -timedelta(days=max(moving_av))\n",
    "    df=stock_df(ticker,'yahoo',start,end)\n",
    "    df.reset_index(inplace=True)\n",
    "    \n",
    "    interval = alt.selection_interval(encodings=['x'])\n",
    "    open_close_color = alt.condition(\"datum.Open <= datum.Close\",\n",
    "                                 alt.value(\"#06982d\"),\n",
    "                                 alt.value(\"#980617\"))\n",
    "    \n",
    "    base = alt.Chart(df).encode(\n",
    "        alt.X('Date:T',\n",
    "              axis=alt.Axis(\n",
    "                  format='%m/%d/%y',labelAngle=-45),\n",
    "                  title=ticker +' stocks from '+str(start)[0:10]+' to '+str(end)[0:10]),\n",
    "        color=open_close_color, \n",
    "        tooltip = [alt.Tooltip('Date:T'), alt.Tooltip('High:Q',format='.2f'),alt.Tooltip('Low:Q',format='.2f'),\n",
    "                   alt.Tooltip('Open:Q',format='.2f'),alt.Tooltip('Close:Q',format='.2f')] \n",
    "        ).properties(\n",
    "        width=1000,\n",
    "        height=350,\n",
    "        title=ticker)\n",
    "\n",
    "    rule = base.mark_rule().encode(\n",
    "        alt.Y(\n",
    "            'Low:Q',\n",
    "            title='Price',\n",
    "            scale=alt.Scale(zero=False),),\n",
    "        alt.Y2('High:Q'))\n",
    "\n",
    "    bar = base.mark_bar().encode(\n",
    "        alt.Y('Open:Q'),\n",
    "        alt.Y2('Close:Q')\n",
    "    ).properties(\n",
    "        selection=interval\n",
    "    ).interactive()\n",
    "    \n",
    "    top = rule + bar\n",
    "    \n",
    "    ## adding any moving avergae\n",
    "    if len(moving_av)!=0:\n",
    "        for day_ma in moving_av:\n",
    "            df[str(day_ma)+'ma'] = df['Close'].rolling(window=day_ma).mean()\n",
    "            df.dropna(inplace=True)\n",
    "            r = lambda: random.randint(0,255)\n",
    "            para = str(day_ma)+ 'ma:Q'\n",
    "            ma = base.mark_line(\n",
    "            ).encode(\n",
    "                alt.Y(para),\n",
    "                color=alt.value('#%02X%02X%02X' % (r(),r(),r())) \n",
    "            ) \n",
    "            top = top + ma   \n",
    "            \n",
    "    ##add trade volume bar chart\n",
    "    volume = add_trade_volume(df,interval,ticker)\n",
    "  \n",
    "    if 'bottom' in locals():\n",
    "        return top&volume\n",
    "    else:\n",
    "        return top\n",
    "\n",
    "def add_trade_volume(df,interval,ticker):\n",
    "    bottom = alt.Chart(df).mark_bar().encode(\n",
    "            alt.X('Date:T',title = ticker+' Trading Volume'),\n",
    "            alt.Y('Volume:Q'),\n",
    "            color=open_close_color,\n",
    "            tooltip = [alt.Tooltip('Date:T'), alt.Tooltip('Volume:Q',format='.0f')]\n",
    "        ).properties(\n",
    "            width=1000,\n",
    "            height=200).transform_filter(interval).interactive()\n",
    "    return bottom    "
   ]
  },
  {
   "cell_type": "code",
   "execution_count": 6,
   "metadata": {
    "scrolled": true
   },
   "outputs": [
    {
     "ename": "NameError",
     "evalue": "name 'open_close_color' is not defined",
     "output_type": "error",
     "traceback": [
      "\u001b[0;31m---------------------------------------------------------------------------\u001b[0m",
      "\u001b[0;31mNameError\u001b[0m                                 Traceback (most recent call last)",
      "\u001b[0;32m<ipython-input-6-0c4d9b26590d>\u001b[0m in \u001b[0;36m<module>\u001b[0;34m\u001b[0m\n\u001b[1;32m      1\u001b[0m \u001b[0mstart\u001b[0m \u001b[0;34m=\u001b[0m \u001b[0mdt\u001b[0m\u001b[0;34m.\u001b[0m\u001b[0mdatetime\u001b[0m\u001b[0;34m(\u001b[0m\u001b[0;36m2020\u001b[0m\u001b[0;34m,\u001b[0m\u001b[0;36m1\u001b[0m\u001b[0;34m,\u001b[0m\u001b[0;36m1\u001b[0m\u001b[0;34m)\u001b[0m\u001b[0;34m\u001b[0m\u001b[0;34m\u001b[0m\u001b[0m\n\u001b[1;32m      2\u001b[0m \u001b[0mend\u001b[0m \u001b[0;34m=\u001b[0m \u001b[0mdate\u001b[0m\u001b[0;34m.\u001b[0m\u001b[0mtoday\u001b[0m\u001b[0;34m(\u001b[0m\u001b[0;34m)\u001b[0m\u001b[0;34m\u001b[0m\u001b[0;34m\u001b[0m\u001b[0m\n\u001b[0;32m----> 3\u001b[0;31m \u001b[0maltair_candle\u001b[0m\u001b[0;34m(\u001b[0m\u001b[0mstart\u001b[0m\u001b[0;34m,\u001b[0m\u001b[0mend\u001b[0m\u001b[0;34m,\u001b[0m\u001b[0;34m'AAPL'\u001b[0m\u001b[0;34m,\u001b[0m\u001b[0;34m[\u001b[0m\u001b[0;34m]\u001b[0m\u001b[0;34m)\u001b[0m\u001b[0;34m\u001b[0m\u001b[0;34m\u001b[0m\u001b[0m\n\u001b[0m",
      "\u001b[0;32m<ipython-input-5-2e327ef623d1>\u001b[0m in \u001b[0;36maltair_candle\u001b[0;34m(start, end, ticker, moving_av)\u001b[0m\n\u001b[1;32m     58\u001b[0m \u001b[0;34m\u001b[0m\u001b[0m\n\u001b[1;32m     59\u001b[0m     \u001b[0;31m##add trade volume bar chart\u001b[0m\u001b[0;34m\u001b[0m\u001b[0;34m\u001b[0m\u001b[0;34m\u001b[0m\u001b[0m\n\u001b[0;32m---> 60\u001b[0;31m     \u001b[0mvolume\u001b[0m \u001b[0;34m=\u001b[0m \u001b[0madd_trade_volume\u001b[0m\u001b[0;34m(\u001b[0m\u001b[0mdf\u001b[0m\u001b[0;34m,\u001b[0m\u001b[0minterval\u001b[0m\u001b[0;34m,\u001b[0m\u001b[0mticker\u001b[0m\u001b[0;34m)\u001b[0m\u001b[0;34m\u001b[0m\u001b[0;34m\u001b[0m\u001b[0m\n\u001b[0m\u001b[1;32m     61\u001b[0m \u001b[0;34m\u001b[0m\u001b[0m\n\u001b[1;32m     62\u001b[0m     \u001b[0;32mif\u001b[0m \u001b[0;34m'bottom'\u001b[0m \u001b[0;32min\u001b[0m \u001b[0mlocals\u001b[0m\u001b[0;34m(\u001b[0m\u001b[0;34m)\u001b[0m\u001b[0;34m:\u001b[0m\u001b[0;34m\u001b[0m\u001b[0;34m\u001b[0m\u001b[0m\n",
      "\u001b[0;32m<ipython-input-5-2e327ef623d1>\u001b[0m in \u001b[0;36madd_trade_volume\u001b[0;34m(df, interval, ticker)\u001b[0m\n\u001b[1;32m     69\u001b[0m             \u001b[0malt\u001b[0m\u001b[0;34m.\u001b[0m\u001b[0mX\u001b[0m\u001b[0;34m(\u001b[0m\u001b[0;34m'Date:T'\u001b[0m\u001b[0;34m,\u001b[0m\u001b[0mtitle\u001b[0m \u001b[0;34m=\u001b[0m \u001b[0mticker\u001b[0m\u001b[0;34m+\u001b[0m\u001b[0;34m' Trading Volume'\u001b[0m\u001b[0;34m)\u001b[0m\u001b[0;34m,\u001b[0m\u001b[0;34m\u001b[0m\u001b[0;34m\u001b[0m\u001b[0m\n\u001b[1;32m     70\u001b[0m             \u001b[0malt\u001b[0m\u001b[0;34m.\u001b[0m\u001b[0mY\u001b[0m\u001b[0;34m(\u001b[0m\u001b[0;34m'Volume:Q'\u001b[0m\u001b[0;34m)\u001b[0m\u001b[0;34m,\u001b[0m\u001b[0;34m\u001b[0m\u001b[0;34m\u001b[0m\u001b[0m\n\u001b[0;32m---> 71\u001b[0;31m             \u001b[0mcolor\u001b[0m\u001b[0;34m=\u001b[0m\u001b[0mopen_close_color\u001b[0m\u001b[0;34m,\u001b[0m\u001b[0;34m\u001b[0m\u001b[0;34m\u001b[0m\u001b[0m\n\u001b[0m\u001b[1;32m     72\u001b[0m             \u001b[0mtooltip\u001b[0m \u001b[0;34m=\u001b[0m \u001b[0;34m[\u001b[0m\u001b[0malt\u001b[0m\u001b[0;34m.\u001b[0m\u001b[0mTooltip\u001b[0m\u001b[0;34m(\u001b[0m\u001b[0;34m'Date:T'\u001b[0m\u001b[0;34m)\u001b[0m\u001b[0;34m,\u001b[0m \u001b[0malt\u001b[0m\u001b[0;34m.\u001b[0m\u001b[0mTooltip\u001b[0m\u001b[0;34m(\u001b[0m\u001b[0;34m'Volume:Q'\u001b[0m\u001b[0;34m,\u001b[0m\u001b[0mformat\u001b[0m\u001b[0;34m=\u001b[0m\u001b[0;34m'.0f'\u001b[0m\u001b[0;34m)\u001b[0m\u001b[0;34m]\u001b[0m\u001b[0;34m\u001b[0m\u001b[0;34m\u001b[0m\u001b[0m\n\u001b[1;32m     73\u001b[0m         \u001b[0;34m)\u001b[0m\u001b[0;34m.\u001b[0m\u001b[0mproperties\u001b[0m\u001b[0;34m(\u001b[0m\u001b[0;34m\u001b[0m\u001b[0;34m\u001b[0m\u001b[0m\n",
      "\u001b[0;31mNameError\u001b[0m: name 'open_close_color' is not defined"
     ]
    }
   ],
   "source": [
    "start = dt.datetime(2020,1,1)\n",
    "end = date.today()\n",
    "altair_candle(start,end,'AAPL',[])"
   ]
  },
  {
   "cell_type": "code",
   "execution_count": null,
   "metadata": {},
   "outputs": [],
   "source": [
    "## return a S&P500 list\n",
    "\n",
    "import bs4 as bs\n",
    "import pickle\n",
    "import requests\n",
    "\n",
    "def save_sp500_tickers():\n",
    "    resp = requests.get('https://en.wikipedia.org/wiki/List_of_S%26P_500_companies')\n",
    "    soup = bs.BeautifulSoup(resp.text,'lxml')\n",
    "    table = soup.find('table', {'id': 'constituents'})\n",
    "    tickers=[]\n",
    "    \n",
    "    for row in table.findAll('tr')[1:]:\n",
    "        ticker = row.find('td').text\n",
    "        tickers.append(ticker)\n",
    "        \n",
    "    with open(\"sp500tickers.pickle\",\"wb\") as f:\n",
    "        pickle.dump(tickers,f)\n",
    "    \n",
    "    ticks500 = []\n",
    "    for ticks in tickers:\n",
    "        ticks500.append(ticks[slice(0,-1)])\n",
    "        \n",
    "    return ticks500\n",
    "\n",
    "tickers = save_sp500_tickers()"
   ]
  },
  {
   "cell_type": "code",
   "execution_count": null,
   "metadata": {},
   "outputs": [],
   "source": [
    "for tic in tickers:\n",
    "    altair_candle(start,end,tic,[])"
   ]
  }
 ],
 "metadata": {
  "kernelspec": {
   "display_name": "Python 3",
   "language": "python",
   "name": "python3"
  },
  "language_info": {
   "codemirror_mode": {
    "name": "ipython",
    "version": 3
   },
   "file_extension": ".py",
   "mimetype": "text/x-python",
   "name": "python",
   "nbconvert_exporter": "python",
   "pygments_lexer": "ipython3",
   "version": "3.8.2"
  }
 },
 "nbformat": 4,
 "nbformat_minor": 4
}
